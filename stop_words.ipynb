{
 "cells": [
  {
   "cell_type": "code",
   "execution_count": 1,
   "metadata": {},
   "outputs": [
    {
     "name": "stdout",
     "output_type": "stream",
     "text": [
      "Intel MKL WARNING: Support of Intel(R) Streaming SIMD Extensions 4.2 (Intel(R) SSE4.2) enabled only processors has been deprecated. Intel oneAPI Math Kernel Library 2025.0 will require Intel(R) Advanced Vector Extensions (Intel(R) AVX) instructions.\n",
      "Intel MKL WARNING: Support of Intel(R) Streaming SIMD Extensions 4.2 (Intel(R) SSE4.2) enabled only processors has been deprecated. Intel oneAPI Math Kernel Library 2025.0 will require Intel(R) Advanced Vector Extensions (Intel(R) AVX) instructions.\n"
     ]
    }
   ],
   "source": [
    "# Perform standard imports:\n",
    "import spacy\n",
    "nlp = spacy.load('en_core_web_sm')\n"
   ]
  },
  {
   "cell_type": "code",
   "execution_count": 2,
   "metadata": {},
   "outputs": [
    {
     "name": "stdout",
     "output_type": "stream",
     "text": [
      "{'them', 'being', 'ever', 'forty', 'seems', 'wherein', 'whom', 'back', 'any', 'although', 'take', 'just', 'would', 'together', 'above', 'now', 'empty', 'had', 'other', 'two', 'upon', 'ca', 'eleven', 'throughout', 'everyone', 'himself', 'everywhere', 'themselves', 'has', 'very', 'even', 'make', 'nine', 'sometime', 'the', 'whereas', 'nor', 'ten', 'towards', 'whence', \"'ll\", 'whenever', 'and', 'their', 'across', 'can', 'it', 'were', 'somehow', 're', 'becomes', 'hence', 'myself', 'but', 'if', 'anything', 'since', 'between', 'name', 'on', 'latterly', 'what', 'whereupon', 'toward', 'while', 'whose', 'go', 'mine', 'twenty', 'each', 'is', 'third', '‘d', 'all', 'doing', 'more', 'down', 'through', '’re', 'every', 'no', 'how', 'seeming', 'do', 'am', 'keep', 'various', 'hereby', 'anyone', 'under', 'also', 'about', 'might', 'whoever', 'hereafter', 'ours', 'most', 'neither', \"n't\", 'thereby', 'call', 'a', 'last', 'hereupon', 'full', 'meanwhile', 'regarding', 'everything', 'latter', 'out', 'behind', 'whole', 'get', 'via', 'anyhow', 'does', 'somewhere', 'noone', 'whereby', \"'d\", 'nothing', 'sixty', 'thru', \"'re\", 'alone', 'n’t', 'often', 'six', 'done', 'be', 'serious', 'side', 'with', 'front', 'namely', 'say', 'beside', 'your', 'mostly', 'indeed', 'twelve', 'much', 'nevertheless', 'onto', 'someone', 'our', 'none', 'wherever', 'may', 'own', 'bottom', 'yours', 'show', 'once', '‘ll', 'as', 'anyway', 'among', 'n‘t', 'thereupon', 'ourselves', 'several', 'not', 'few', 'became', 'still', 'until', 'herself', 'please', '‘re', 'could', 'then', 'give', 'whether', 'hers', 'along', 'though', 'used', 'elsewhere', 'always', 'part', 'up', 'i', 'either', 'made', 'next', 'becoming', 'at', 'of', 'put', '’ll', '’m', 'almost', 'amount', 'such', 'seemed', 'did', 'less', 'move', 'before', 'here', 'so', 'itself', 'against', 'these', 'its', 'nobody', 'nowhere', 'another', 'formerly', 'fifteen', 'over', 'per', 'in', 'seem', 'cannot', 'former', 'was', 'four', '‘m', 'see', 'have', 'some', 'we', 'for', 'herein', 'without', 'otherwise', 'hundred', 'thence', 'me', 'thus', 'both', '‘ve', 'her', 'during', 'however', 'his', 'after', 'else', 'many', 'three', 'really', 'whereafter', 'eight', 'to', 'around', 'already', 'never', 'this', 'from', 'beyond', 'unless', 'will', 'been', 'where', 'yourself', 'who', 'first', 'therein', 'whither', 'quite', 'an', 'yourselves', 'within', '‘s', 'into', 'he', 'besides', 'others', 'below', 'rather', 'using', 'five', 'moreover', 'afterwards', \"'m\", 'she', 'well', 'thereafter', 'when', 'sometimes', 'why', 'must', 'him', '’s', 'by', 'one', 'too', '’ve', 'again', 'enough', 'you', 'same', 'than', 'become', 'amongst', 'there', 'they', 'that', 'should', 'us', \"'s\", 'those', 'only', 'yet', 'except', 'further', 'which', 'beforehand', 'fifty', 'my', 'whatever', 'due', '’d', 'or', 'are', 'therefore', 'something', 'anywhere', \"'ve\", 'because', 'least', 'top', 'perhaps', 'off'}\n"
     ]
    }
   ],
   "source": [
    "# Print the set of spaCy's default stop words (remember that sets are unordered):\n",
    "print(nlp.Defaults.stop_words)\n"
   ]
  },
  {
   "cell_type": "code",
   "execution_count": null,
   "metadata": {},
   "outputs": [],
   "source": []
  }
 ],
 "metadata": {
  "kernelspec": {
   "display_name": "Python 3.9.17 ('spacyenv')",
   "language": "python",
   "name": "python3"
  },
  "language_info": {
   "codemirror_mode": {
    "name": "ipython",
    "version": 3
   },
   "file_extension": ".py",
   "mimetype": "text/x-python",
   "name": "python",
   "nbconvert_exporter": "python",
   "pygments_lexer": "ipython3",
   "version": "3.9.17"
  },
  "orig_nbformat": 4,
  "vscode": {
   "interpreter": {
    "hash": "d4db5132acb4fcf1f8f49364abadc9a6907a80b9368fc4c7d023600365a95d35"
   }
  }
 },
 "nbformat": 4,
 "nbformat_minor": 2
}
